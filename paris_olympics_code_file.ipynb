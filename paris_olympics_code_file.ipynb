{
 "cells": [
  {
   "cell_type": "code",
   "execution_count": null,
   "id": "b8afb5a5",
   "metadata": {},
   "outputs": [],
   "source": [
    "import pandas as pd\n",
    "import seaborn as sns\n",
    "import matplotlib.pyplot as plt\n",
    "import numpy as np"
   ]
  },
  {
   "cell_type": "code",
   "execution_count": null,
   "id": "cffc3b0c",
   "metadata": {},
   "outputs": [],
   "source": [
    "# data from CSV files\n",
    "teams_df = pd.read_csv('teams.csv')\n",
    "technical_officials_df = pd.read_csv('technical_officials.csv')\n",
    "events_df = pd.read_csv('events.csv')\n",
    "nocs_df = pd.read_csv('nocs.csv')\n",
    "schedule_preliminary_df = pd.read_csv('schedules_preliminary.csv')\n",
    "schedule_df = pd.read_csv('schedules.csv')\n",
    "torch_route_df = pd.read_csv('torch_route.csv')\n",
    "medals_total_df = pd.read_csv('medals_total.csv')\n",
    "medals_df = pd.read_csv('medals.csv')\n",
    "venues_df = pd.read_csv('venues.csv')\n",
    "athletes_df = pd.read_csv('athletes.csv')\n",
    "coaches_df = pd.read_csv('coaches.csv')\n",
    "medallists_df = pd.read_csv('medallists.csv')"
   ]
  },
  {
   "cell_type": "code",
   "execution_count": null,
   "id": "12e2fde9",
   "metadata": {},
   "outputs": [],
   "source": [
    "# Cleaning up the 'disciplines' column in technical_officials.csv -> this is because disciplines in this table is a list, and rest of the tables have singular data in this type of column.\n",
    "import ast\n",
    "technical_officials_df['disciplines'] = technical_officials_df['disciplines'].apply(lambda x: ast.literal_eval(x) if isinstance(x, str) else x)\n",
    "technical_officials_df = technical_officials_df.explode('disciplines')\n",
    "technical_officials_df['disciplines'] = technical_officials_df['disciplines'].str.strip()"
   ]
  },
  {
   "cell_type": "code",
   "execution_count": null,
   "id": "dd92878c",
   "metadata": {},
   "outputs": [],
   "source": [
    "# Cleaning up the 'events' column in athletes.csv -> this is because events in this table is a list, and rest of the tables have singular data in this type of column.\n",
    "import ast\n",
    "athletes_df['events'] = athletes_df['events'].apply(lambda x: ast.literal_eval(x) if isinstance(x, str) else x).head(1000)\n",
    "athletes_df = athletes_df.explode('events')\n",
    "athletes_df['events'] = athletes_df['events'].str.strip()"
   ]
  },
  {
   "cell_type": "code",
   "execution_count": null,
   "id": "2787f23e",
   "metadata": {},
   "outputs": [],
   "source": [
    "#1 Athlete participation and medal-winning by event\n",
    "athletes_medals_by_event = pd.merge(athletes_df, medals_df, on='name', how='inner')\n",
    "athletes_performance = athletes_medals_by_event.groupby('discipline')['medal_type'].count().reset_index()\n",
    "athletes_performance.columns = ['discipline', 'medal_count']\n",
    "\n",
    "athletes_performance = athletes_performance.sort_values(by='medal_count', ascending=False).head(20)\n",
    "\n",
    "plt.figure(figsize=(14, 8))\n",
    "sns.barplot(x='medal_count', y='discipline', data=athletes_performance, palette='crest')\n",
    "plt.title('Top 20 Events with Highest Medal Wins')\n",
    "plt.xlabel('Number of Medals Won')\n",
    "plt.ylabel('Sports Discipline')\n",
    "plt.show()"
   ]
  },
  {
   "cell_type": "code",
   "execution_count": null,
   "id": "993c4292",
   "metadata": {},
   "outputs": [],
   "source": [
    "#2 Event distribution over days\n",
    "schedule_df['day'] = pd.to_datetime(schedule_df['day'])\n",
    "events_by_date = schedule_df.groupby('day').size().reset_index(name='event_count')\n",
    "\n",
    "plt.figure(figsize=(14, 6))\n",
    "sns.lineplot(x='day', y='event_count', data=events_by_date, marker='o')\n",
    "plt.title('Number of Events Over Days')\n",
    "plt.xlabel('Date')\n",
    "plt.ylabel('Number of Events')\n",
    "plt.xticks(rotation=45)\n",
    "plt.show()"
   ]
  },
  {
   "cell_type": "code",
   "execution_count": null,
   "id": "3d034eb9",
   "metadata": {},
   "outputs": [],
   "source": [
    "#3 Torch relay visualization (geographical distribution)\n",
    "torch_route_df['city'] = torch_route_df['city'].str.strip()  # Clean city names\n",
    "torch_route_count = torch_route_df['city'].value_counts().reset_index()\n",
    "torch_route_count.columns = ['city', 'count']\n",
    "\n",
    "plt.figure(figsize=(12, 6))\n",
    "sns.barplot(x='count', y='city', data=torch_route_count.head(20), palette='viridis')\n",
    "plt.title('Top 20 Cities in Torch Relay Route')\n",
    "plt.xlabel('Number of Torch Visits')\n",
    "plt.ylabel('City')\n",
    "plt.show()"
   ]
  },
  {
   "cell_type": "code",
   "execution_count": null,
   "id": "0620d67e",
   "metadata": {},
   "outputs": [],
   "source": [
    "#4 Merge teams with medals to find team performance\n",
    "teams_performance = pd.merge(teams_df, medals_df, left_on='discipline', right_on='discipline')\n",
    "teams_medals_count = teams_performance.groupby('team')['medal_type'].count().reset_index()\n",
    "teams_medals_count = teams_medals_count.sort_values(by='medal_type', ascending=False).head(20)\n",
    "\n",
    "plt.figure(figsize=(12, 6))\n",
    "sns.barplot(x='medal_type', y='team', data=teams_medals_count, palette='Spectral')\n",
    "plt.title('Top Performing Teams')\n",
    "plt.xlabel('Number of Medals')\n",
    "plt.ylabel('Team')\n",
    "plt.show()"
   ]
  },
  {
   "cell_type": "code",
   "execution_count": null,
   "id": "64f4e5a4",
   "metadata": {},
   "outputs": [],
   "source": [
    "#5 Medal win rate calculation\n",
    "athlete_count_by_country = athletes_df.groupby('country')['name'].count().reset_index()\n",
    "medals_by_country = medals_df.groupby('country')['medal_type'].count().reset_index()\n",
    "\n",
    "win_rate_df = pd.merge(athlete_count_by_country, medals_by_country, on='country')\n",
    "win_rate_df['win_rate'] = win_rate_df['medal_type'] / win_rate_df['name']\n",
    "win_rate_df = win_rate_df.sort_values(by='win_rate', ascending=False)\n",
    "\n",
    "plt.figure(figsize=(12, 6))\n",
    "sns.barplot(x='win_rate', y='country', data=win_rate_df.head(20), palette='plasma')\n",
    "plt.title('Top 20 Countries by Medal Win Rate')\n",
    "plt.xlabel('Win Rate')\n",
    "plt.ylabel('Country')\n",
    "plt.show()"
   ]
  },
  {
   "cell_type": "code",
   "execution_count": null,
   "id": "aa646e1f",
   "metadata": {},
   "outputs": [],
   "source": [
    "#6 Coach-to-athlete ratio\n",
    "coach_count = coaches_df.groupby('country')['name'].count().reset_index()\n",
    "athlete_count = athletes_df.groupby('country')['name'].count().reset_index()\n",
    "\n",
    "ratio_df = pd.merge(coach_count, athlete_count, on='country', how='inner')\n",
    "ratio_df.columns = ['country', 'coaches', 'athletes']\n",
    "ratio_df['coach_to_athlete_ratio'] = ratio_df['coaches'] / ratio_df['athletes']\n",
    "\n",
    "ratio_df = ratio_df.sort_values(by='coach_to_athlete_ratio', ascending=False).head(20)\n",
    "sns.barplot(x='coach_to_athlete_ratio', y='country', data=ratio_df, palette='crest')\n",
    "plt.title('Top 20 Countries by Coach-to-Athlete Ratio')\n",
    "plt.xlabel('Coach-to-Athlete Ratio')\n",
    "plt.ylabel('Country')\n",
    "plt.show()"
   ]
  },
  {
   "cell_type": "code",
   "execution_count": null,
   "id": "4cf24c76",
   "metadata": {},
   "outputs": [],
   "source": [
    "#7 Medal heatmap by discipline and country\n",
    "medal_heatmap_data = medals_df.groupby(['country', 'discipline'])['medal_type'].count().unstack(fill_value=0)\n",
    "\n",
    "plt.figure(figsize=(14, 8))\n",
    "sns.heatmap(medal_heatmap_data, cmap='YlGnBu', annot=False)\n",
    "plt.title('Medal Distribution Heatmap by Discipline and Country')\n",
    "plt.xlabel('Discipline')\n",
    "plt.ylabel('Country')\n",
    "plt.show()"
   ]
  }
 ],
 "metadata": {
  "kernelspec": {
   "display_name": "Python 3 (ipykernel)",
   "language": "python",
   "name": "python3"
  },
  "language_info": {
   "codemirror_mode": {
    "name": "ipython",
    "version": 3
   },
   "file_extension": ".py",
   "mimetype": "text/x-python",
   "name": "python",
   "nbconvert_exporter": "python",
   "pygments_lexer": "ipython3",
   "version": "3.7.11"
  }
 },
 "nbformat": 4,
 "nbformat_minor": 5
}
